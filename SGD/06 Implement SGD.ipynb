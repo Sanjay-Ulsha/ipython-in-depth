{
 "cells": [
  {
   "cell_type": "code",
   "execution_count": 1,
   "metadata": {
    "colab": {},
    "colab_type": "code",
    "collapsed": true,
    "id": "REYPoTJ1Af7u"
   },
   "outputs": [],
   "source": [
    "import warnings\n",
    "warnings.filterwarnings(\"ignore\")\n",
    "from sklearn.datasets import load_boston\n",
    "from random import seed\n",
    "from random import randrange\n",
    "from csv import reader\n",
    "from math import sqrt\n",
    "from sklearn import preprocessing\n",
    "import pandas as pd\n",
    "import numpy as np\n",
    "import matplotlib.pyplot as plt\n",
    "from prettytable import PrettyTable\n",
    "from sklearn.linear_model import SGDRegressor\n",
    "from sklearn import preprocessing\n",
    "from sklearn.metrics import mean_squared_error"
   ]
  },
  {
   "cell_type": "code",
   "execution_count": 2,
   "metadata": {
    "colab": {},
    "colab_type": "code",
    "collapsed": true,
    "id": "NTQ2iH-kAwbo"
   },
   "outputs": [],
   "source": [
    "X = load_boston().data\n",
    "Y = load_boston().target"
   ]
  },
  {
   "cell_type": "code",
   "execution_count": 5,
   "metadata": {
    "collapsed": true
   },
   "outputs": [],
   "source": [
    "from sklearn.model_selection import train_test_split"
   ]
  },
  {
   "cell_type": "code",
   "execution_count": 51,
   "metadata": {},
   "outputs": [],
   "source": [
    "X_tr, X_te, y_tr, y_te = train_test_split(X, Y, test_size=.33)"
   ]
  },
  {
   "cell_type": "code",
   "execution_count": 52,
   "metadata": {
    "collapsed": true
   },
   "outputs": [],
   "source": [
    "scaler = preprocessing.StandardScaler().fit(X_tr)\n",
    "X_tr = scaler.transform(X_tr)\n",
    "X_te = scaler.transform(X_te)"
   ]
  },
  {
   "cell_type": "code",
   "execution_count": 256,
   "metadata": {},
   "outputs": [
    {
     "name": "stdout",
     "output_type": "stream",
     "text": [
      "29.34912618030447\n"
     ]
    }
   ],
   "source": [
    "clf = SGDRegressor()\n",
    "clf.fit(X_tr, y_tr)\n",
    "print(mean_squared_error(y_te, clf.predict(X_te)))"
   ]
  },
  {
   "cell_type": "code",
   "execution_count": 258,
   "metadata": {},
   "outputs": [
    {
     "data": {
      "text/plain": [
       "array([-0.67131374,  0.73570362, -0.38956152,  1.0434513 , -0.59723018,\n",
       "        3.71428904, -0.36757663, -1.60213802,  0.64994237, -0.61341334,\n",
       "       -1.83933121,  0.88604001, -3.2187112 ])"
      ]
     },
     "execution_count": 258,
     "metadata": {},
     "output_type": "execute_result"
    }
   ],
   "source": [
    "clf.coef_"
   ]
  },
  {
   "cell_type": "code",
   "execution_count": 61,
   "metadata": {},
   "outputs": [
    {
     "name": "stdout",
     "output_type": "stream",
     "text": [
      "[-1.4750848  -0.10730317  0.15914453  0.82333546 -1.49003437  0.76196931\n",
      " -0.7618005  -0.81995008 -0.15696079  1.68614223 -1.89538147 -0.958241\n",
      " -1.6754991 ]\n"
     ]
    }
   ],
   "source": [
    "import numpy as np\n",
    "print(np.random.normal(size=13))"
   ]
  },
  {
   "cell_type": "code",
   "execution_count": 298,
   "metadata": {},
   "outputs": [],
   "source": [
    "class CustomSGD:\n",
    "    def __init__(self, r, iters, k):\n",
    "        self.w = None\n",
    "        self.b = None\n",
    "        self.X = None\n",
    "        self.y = None\n",
    "        self.r = r\n",
    "        self.k = k\n",
    "        self.iters = iters\n",
    "        \n",
    "    def fit(self, X, y):\n",
    "        self.X = X\n",
    "        self.y = y\n",
    "        self.w = np.random.normal(size = X.shape[1])\n",
    "        self.b = np.random.normal()\n",
    "        \n",
    "        self.findBestWeights()\n",
    "        self.findBestBias()\n",
    "    \n",
    "    def findBestWeights(self):\n",
    "        opt_weights = self.w\n",
    "        r = self.r\n",
    "        \n",
    "        for i in range(self.iters - 1):\n",
    "            temp = opt_weights\n",
    "            opt_weights = opt_weights + r * 2 * ( self.selectKPointsforWeights( opt_weights )/self.X.shape[0] )\n",
    "            \n",
    "            if np.sum(temp - opt_weights) < 1:\n",
    "                self.w = temp\n",
    "                return\n",
    "            \n",
    "            r /= 2\n",
    "        \n",
    "        self.w = opt_weights\n",
    "            \n",
    "    def selectKPointsforWeights(self, w):\n",
    "        idxs = np.random.randint(0, self.X.shape[0], size=self.k)\n",
    "        \n",
    "        k_sum = np.zeros( self.X.shape[1] )\n",
    "        \n",
    "        for i in idxs:\n",
    "            k_sum += self.X[i] * ( self.y[i] - np.dot(w, self.X[i]) - self.b )\n",
    "            \n",
    "        return k_sum\n",
    "        \n",
    "    def findBestBias(self):\n",
    "        opt_b = self.b\n",
    "        r = self.r\n",
    "        \n",
    "        for i in range(self.iters - 1):\n",
    "            temp = opt_b\n",
    "            opt_b = opt_b + r * 2 * ( self.selectKPointsforBias( self.w )/self.X.shape[0] )\n",
    "            \n",
    "            if (temp - opt_b) < 1:\n",
    "                self.b = temp\n",
    "                return\n",
    "                \n",
    "            r /= 2\n",
    "        \n",
    "        self.b = opt_b\n",
    "            \n",
    "    def selectKPointsforBias(self, w):\n",
    "        idxs = np.random.randint(0, self.X.shape[0], size=self.k)\n",
    "        \n",
    "        k_sum = 0\n",
    "        \n",
    "        for i in idxs:\n",
    "            k_sum += ( self.y[i] - np.dot(w, self.X[i]) - self.b )\n",
    "            \n",
    "        return k_sum\n",
    "        \n",
    "    def predict(self, X):\n",
    "        lst = list()\n",
    "        for idx in range(X.shape[0]):\n",
    "            lst.append( np.round(np.dot(self.w, X[idx]) + self.b, 2) )\n",
    "        return np.array(lst)"
   ]
  },
  {
   "cell_type": "code",
   "execution_count": 299,
   "metadata": {
    "collapsed": true
   },
   "outputs": [],
   "source": [
    "model = CustomSGD(10, 10000, 200)"
   ]
  },
  {
   "cell_type": "code",
   "execution_count": 308,
   "metadata": {
    "scrolled": true
   },
   "outputs": [
    {
     "data": {
      "text/plain": [
       "array([-45.75371209,  66.63671084, -57.57780168,  19.87842452,\n",
       "       -61.70987735,  40.83395464, -51.22356611,  48.44280685,\n",
       "       -63.55567824, -66.24369487, -74.37882169,  15.20967261,\n",
       "       -78.12643868])"
      ]
     },
     "execution_count": 308,
     "metadata": {},
     "output_type": "execute_result"
    }
   ],
   "source": [
    "model.fit(X_tr, y_tr)\n",
    "model.w"
   ]
  },
  {
   "cell_type": "code",
   "execution_count": 309,
   "metadata": {},
   "outputs": [
    {
     "name": "stdout",
     "output_type": "stream",
     "text": [
      "367218.24307005986\n"
     ]
    }
   ],
   "source": [
    "print(mean_squared_error(y_te, model.predict(X_te)))"
   ]
  },
  {
   "cell_type": "code",
   "execution_count": 297,
   "metadata": {},
   "outputs": [
    {
     "name": "stdout",
     "output_type": "stream",
     "text": [
      "[20.6 20.1 14.8 21.2 14.4 50.  20.6 13.  23.3 34.9]\n",
      "[ 141.58  162.1  -147.53   13.83 -218.73  -84.86   -7.43 -361.7   296.68\n",
      "  486.18]\n"
     ]
    }
   ],
   "source": [
    "print(y_te[:10])\n",
    "print( model.predict(X_te)[:10])"
   ]
  }
 ],
 "metadata": {
  "colab": {
   "name": "Untitled3.ipynb",
   "provenance": [],
   "version": "0.3.2"
  },
  "kernelspec": {
   "display_name": "Python 3",
   "language": "python",
   "name": "python3"
  },
  "language_info": {
   "codemirror_mode": {
    "name": "ipython",
    "version": 3
   },
   "file_extension": ".py",
   "mimetype": "text/x-python",
   "name": "python",
   "nbconvert_exporter": "python",
   "pygments_lexer": "ipython3",
   "version": "3.6.2"
  }
 },
 "nbformat": 4,
 "nbformat_minor": 1
}
